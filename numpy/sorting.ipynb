{
 "cells": [
  {
   "cell_type": "markdown",
   "id": "7177632d",
   "metadata": {},
   "source": [
    "### Sıralama (sorting)"
   ]
  },
  {
   "cell_type": "code",
   "execution_count": 1,
   "id": "007cc2d3",
   "metadata": {},
   "outputs": [],
   "source": [
    "import numpy as np"
   ]
  },
  {
   "cell_type": "code",
   "execution_count": 2,
   "id": "b37649b5",
   "metadata": {},
   "outputs": [],
   "source": [
    "a = np.array([2,5,3,4,1])"
   ]
  },
  {
   "cell_type": "code",
   "execution_count": 3,
   "id": "5b45c7c8",
   "metadata": {},
   "outputs": [
    {
     "data": {
      "text/plain": [
       "array([2, 5, 3, 4, 1])"
      ]
     },
     "execution_count": 3,
     "metadata": {},
     "output_type": "execute_result"
    }
   ],
   "source": [
    "a"
   ]
  },
  {
   "cell_type": "code",
   "execution_count": 5,
   "id": "59346551",
   "metadata": {},
   "outputs": [
    {
     "data": {
      "text/plain": [
       "array([1, 2, 3, 4, 5])"
      ]
     },
     "execution_count": 5,
     "metadata": {},
     "output_type": "execute_result"
    }
   ],
   "source": [
    "np.sort(a) #veri setinin orijinal yapısını bozmaz."
   ]
  },
  {
   "cell_type": "code",
   "execution_count": 8,
   "id": "1adc78af",
   "metadata": {},
   "outputs": [],
   "source": [
    "a.sort() #veri setinin yapısını bozar."
   ]
  },
  {
   "cell_type": "code",
   "execution_count": 10,
   "id": "5c9cc27b",
   "metadata": {},
   "outputs": [
    {
     "data": {
      "text/plain": [
       "array([1, 2, 3, 4, 5])"
      ]
     },
     "execution_count": 10,
     "metadata": {},
     "output_type": "execute_result"
    }
   ],
   "source": [
    "a #görüldüğü gibi bu şekilde yapısı değişir. "
   ]
  },
  {
   "cell_type": "markdown",
   "id": "6925939c",
   "metadata": {},
   "source": [
    "## İki boyutlu array sıralama"
   ]
  },
  {
   "cell_type": "code",
   "execution_count": 13,
   "id": "dd8bc383",
   "metadata": {},
   "outputs": [],
   "source": [
    "b = np.random.normal(20,3,(3,3))"
   ]
  },
  {
   "cell_type": "code",
   "execution_count": 14,
   "id": "64b9971f",
   "metadata": {},
   "outputs": [
    {
     "data": {
      "text/plain": [
       "array([[18.49281174, 20.90689573, 14.1889527 ],\n",
       "       [23.08454937, 21.14159625, 14.59098331],\n",
       "       [19.22758444, 22.81350169, 20.80734575]])"
      ]
     },
     "execution_count": 14,
     "metadata": {},
     "output_type": "execute_result"
    }
   ],
   "source": [
    "b"
   ]
  },
  {
   "cell_type": "code",
   "execution_count": 17,
   "id": "729ec436",
   "metadata": {},
   "outputs": [
    {
     "data": {
      "text/plain": [
       "array([[14.1889527 , 18.49281174, 20.90689573],\n",
       "       [14.59098331, 21.14159625, 23.08454937],\n",
       "       [19.22758444, 20.80734575, 22.81350169]])"
      ]
     },
     "execution_count": 17,
     "metadata": {},
     "output_type": "execute_result"
    }
   ],
   "source": [
    "np.sort(b,axis=1) #satırları sıralar"
   ]
  },
  {
   "cell_type": "code",
   "execution_count": 18,
   "id": "51da25d0",
   "metadata": {},
   "outputs": [
    {
     "data": {
      "text/plain": [
       "array([[18.49281174, 20.90689573, 14.1889527 ],\n",
       "       [19.22758444, 21.14159625, 14.59098331],\n",
       "       [23.08454937, 22.81350169, 20.80734575]])"
      ]
     },
     "execution_count": 18,
     "metadata": {},
     "output_type": "execute_result"
    }
   ],
   "source": [
    "np.sort(b,axis=0) #sütunları sıralar"
   ]
  }
 ],
 "metadata": {
  "kernelspec": {
   "display_name": "Python 3 (ipykernel)",
   "language": "python",
   "name": "python3"
  },
  "language_info": {
   "codemirror_mode": {
    "name": "ipython",
    "version": 3
   },
   "file_extension": ".py",
   "mimetype": "text/x-python",
   "name": "python",
   "nbconvert_exporter": "python",
   "pygments_lexer": "ipython3",
   "version": "3.9.12"
  }
 },
 "nbformat": 4,
 "nbformat_minor": 5
}
