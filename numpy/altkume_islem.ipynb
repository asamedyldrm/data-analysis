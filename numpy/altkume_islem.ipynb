{
 "cells": [
  {
   "cell_type": "markdown",
   "id": "f31db606",
   "metadata": {},
   "source": [
    "## Alt Küme Üzerinde İşlem Yapmak"
   ]
  },
  {
   "cell_type": "code",
   "execution_count": 2,
   "id": "baf4d482",
   "metadata": {},
   "outputs": [],
   "source": [
    "import numpy as np"
   ]
  },
  {
   "cell_type": "code",
   "execution_count": 3,
   "id": "5bbdbe4d",
   "metadata": {},
   "outputs": [],
   "source": [
    "a = np.random.randint(10, size= (5,5))"
   ]
  },
  {
   "cell_type": "code",
   "execution_count": 4,
   "id": "ae88f330",
   "metadata": {},
   "outputs": [
    {
     "data": {
      "text/plain": [
       "array([[5, 6, 9, 8, 8],\n",
       "       [9, 5, 6, 4, 3],\n",
       "       [1, 9, 2, 9, 4],\n",
       "       [0, 1, 9, 7, 6],\n",
       "       [1, 9, 5, 9, 5]])"
      ]
     },
     "execution_count": 4,
     "metadata": {},
     "output_type": "execute_result"
    }
   ],
   "source": [
    "a"
   ]
  },
  {
   "cell_type": "markdown",
   "id": "4d8255f0",
   "metadata": {},
   "source": [
    "**Alt kümeleri genel kümeden bağımsız yapmak isteyebiliriz.**"
   ]
  },
  {
   "cell_type": "code",
   "execution_count": 7,
   "id": "60052f10",
   "metadata": {},
   "outputs": [
    {
     "data": {
      "text/plain": [
       "array([[5, 6],\n",
       "       [9, 5],\n",
       "       [1, 9]])"
      ]
     },
     "execution_count": 7,
     "metadata": {},
     "output_type": "execute_result"
    }
   ],
   "source": [
    "alt_a = a[0:3,0:2]\n",
    "alt_a"
   ]
  },
  {
   "cell_type": "code",
   "execution_count": 9,
   "id": "a2b63edb",
   "metadata": {},
   "outputs": [],
   "source": [
    "alt_a[0,0] = 9999\n",
    "alt_a[1,1] = 8888"
   ]
  },
  {
   "cell_type": "code",
   "execution_count": 10,
   "id": "7418bdeb",
   "metadata": {},
   "outputs": [
    {
     "data": {
      "text/plain": [
       "array([[9999,    6],\n",
       "       [   9, 8888],\n",
       "       [   1,    9]])"
      ]
     },
     "execution_count": 10,
     "metadata": {},
     "output_type": "execute_result"
    }
   ],
   "source": [
    "alt_a"
   ]
  },
  {
   "cell_type": "code",
   "execution_count": 12,
   "id": "013f4a4c",
   "metadata": {},
   "outputs": [
    {
     "data": {
      "text/plain": [
       "array([[9999,    6,    9,    8,    8],\n",
       "       [   9, 8888,    6,    4,    3],\n",
       "       [   1,    9,    2,    9,    4],\n",
       "       [   0,    1,    9,    7,    6],\n",
       "       [   1,    9,    5,    9,    5]])"
      ]
     },
     "execution_count": 12,
     "metadata": {},
     "output_type": "execute_result"
    }
   ],
   "source": [
    "a"
   ]
  },
  {
   "cell_type": "markdown",
   "id": "64a95f6a",
   "metadata": {},
   "source": [
    "**Alt kümede yaptığımız değişiklikler ana kümede de meydana geldi.**\n",
    "\n",
    "Şimdi de kopyalama işlemi yapalım."
   ]
  },
  {
   "cell_type": "code",
   "execution_count": 15,
   "id": "ac1e97aa",
   "metadata": {},
   "outputs": [
    {
     "data": {
      "text/plain": [
       "array([[0, 9, 4, 1, 7],\n",
       "       [9, 1, 7, 8, 2],\n",
       "       [3, 4, 0, 5, 2],\n",
       "       [2, 9, 4, 4, 8],\n",
       "       [4, 9, 1, 7, 5]])"
      ]
     },
     "execution_count": 15,
     "metadata": {},
     "output_type": "execute_result"
    }
   ],
   "source": [
    "m = np.random.randint(10, size = (5,5))\n",
    "m"
   ]
  },
  {
   "cell_type": "code",
   "execution_count": 16,
   "id": "75b73ba3",
   "metadata": {},
   "outputs": [
    {
     "data": {
      "text/plain": [
       "array([[0, 9],\n",
       "       [9, 1],\n",
       "       [3, 4]])"
      ]
     },
     "execution_count": 16,
     "metadata": {},
     "output_type": "execute_result"
    }
   ],
   "source": [
    "alt_m = m[0:3, 0:2].copy()\n",
    "alt_m\n"
   ]
  },
  {
   "cell_type": "code",
   "execution_count": 17,
   "id": "a8e11f2b",
   "metadata": {},
   "outputs": [],
   "source": [
    "alt_m[0,0] = 9999\n",
    "alt_m[1,1] = 8888"
   ]
  },
  {
   "cell_type": "code",
   "execution_count": 18,
   "id": "cfbc3018",
   "metadata": {},
   "outputs": [
    {
     "data": {
      "text/plain": [
       "array([[9999,    9],\n",
       "       [   9, 8888],\n",
       "       [   3,    4]])"
      ]
     },
     "execution_count": 18,
     "metadata": {},
     "output_type": "execute_result"
    }
   ],
   "source": [
    "alt_m"
   ]
  },
  {
   "cell_type": "code",
   "execution_count": 19,
   "id": "28cf79d9",
   "metadata": {},
   "outputs": [
    {
     "data": {
      "text/plain": [
       "array([[0, 9, 4, 1, 7],\n",
       "       [9, 1, 7, 8, 2],\n",
       "       [3, 4, 0, 5, 2],\n",
       "       [2, 9, 4, 4, 8],\n",
       "       [4, 9, 1, 7, 5]])"
      ]
     },
     "execution_count": 19,
     "metadata": {},
     "output_type": "execute_result"
    }
   ],
   "source": [
    "m"
   ]
  },
  {
   "cell_type": "markdown",
   "id": "5f412f3a",
   "metadata": {},
   "source": [
    "**Görüldüğü gibi copy() dediğimizde ana kümede değişiklik meydana gelmez.**"
   ]
  }
 ],
 "metadata": {
  "kernelspec": {
   "display_name": "Python 3 (ipykernel)",
   "language": "python",
   "name": "python3"
  },
  "language_info": {
   "codemirror_mode": {
    "name": "ipython",
    "version": 3
   },
   "file_extension": ".py",
   "mimetype": "text/x-python",
   "name": "python",
   "nbconvert_exporter": "python",
   "pygments_lexer": "ipython3",
   "version": "3.9.12"
  }
 },
 "nbformat": 4,
 "nbformat_minor": 5
}
