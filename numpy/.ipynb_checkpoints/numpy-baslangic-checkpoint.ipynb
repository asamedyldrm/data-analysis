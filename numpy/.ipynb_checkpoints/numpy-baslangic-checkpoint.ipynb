{
 "cells": [
  {
   "cell_type": "code",
   "execution_count": 1,
   "id": "99c01ff1",
   "metadata": {},
   "outputs": [],
   "source": [
    "# İlk önce kullanılacak kütüphaneleri import ediyoruz.\n",
    "\n",
    "import numpy as np"
   ]
  },
  {
   "cell_type": "code",
   "execution_count": 3,
   "id": "50eb23fb",
   "metadata": {},
   "outputs": [
    {
     "name": "stdout",
     "output_type": "stream",
     "text": [
      "[ 2  6 12 20 30]\n"
     ]
    }
   ],
   "source": [
    "# Tek boyutlu olanlar VEKTOR, iki boyutlu olanlar ise MATRIS'dir.\n",
    "\n",
    "a = np.array([1,2,3,4,5])\n",
    "b = np.array([2,3,4,5,6])\n",
    "print(a*b)"
   ]
  },
  {
   "cell_type": "markdown",
   "id": "1644bed8",
   "metadata": {},
   "source": [
    "Numpy arraylerini bu şekilde kolaylıkla çarpım işlemi yapabiliyoruz."
   ]
  },
  {
   "cell_type": "markdown",
   "id": "dd72f122",
   "metadata": {},
   "source": [
    "**Numpy Array'i Oluşturmak**"
   ]
  },
  {
   "cell_type": "code",
   "execution_count": 5,
   "id": "21777a55",
   "metadata": {},
   "outputs": [
    {
     "name": "stdout",
     "output_type": "stream",
     "text": [
      "[1 2 3 4 5]\n",
      "<class 'numpy.ndarray'>\n"
     ]
    }
   ],
   "source": [
    "a = np.array([1,2,3,4,5])\n",
    "print(a)\n",
    "print(type(a))"
   ]
  },
  {
   "cell_type": "markdown",
   "id": "33e17bec",
   "metadata": {},
   "source": [
    "**Sıfırdan Array Oluşturmak**"
   ]
  },
  {
   "cell_type": "code",
   "execution_count": 6,
   "id": "35d60f60",
   "metadata": {},
   "outputs": [
    {
     "data": {
      "text/plain": [
       "array([0, 0, 0, 0, 0, 0, 0, 0, 0, 0])"
      ]
     },
     "execution_count": 6,
     "metadata": {},
     "output_type": "execute_result"
    }
   ],
   "source": [
    "a = np.zeros(10, dtype = \"int\")\n",
    "a"
   ]
  },
  {
   "cell_type": "markdown",
   "id": "9892e1ec",
   "metadata": {},
   "source": [
    "**Birlerden Array Oluşturmak**"
   ]
  },
  {
   "cell_type": "code",
   "execution_count": 8,
   "id": "84487434",
   "metadata": {},
   "outputs": [
    {
     "data": {
      "text/plain": [
       "array([[1, 1, 1, 1, 1],\n",
       "       [1, 1, 1, 1, 1],\n",
       "       [1, 1, 1, 1, 1]])"
      ]
     },
     "execution_count": 8,
     "metadata": {},
     "output_type": "execute_result"
    }
   ],
   "source": [
    "b = np.ones((3,5), dtype = \"int\")\n",
    "b"
   ]
  },
  {
   "cell_type": "code",
   "execution_count": 23,
   "id": "c8f2ebdb",
   "metadata": {},
   "outputs": [
    {
     "data": {
      "text/plain": [
       "array([[5, 5, 5, 5, 5, 5, 5, 5, 5, 5],\n",
       "       [5, 5, 5, 5, 5, 5, 5, 5, 5, 5]])"
      ]
     },
     "execution_count": 23,
     "metadata": {},
     "output_type": "execute_result"
    }
   ],
   "source": [
    "c = np.full((2,10), 5)\n",
    "c"
   ]
  },
  {
   "cell_type": "code",
   "execution_count": 10,
   "id": "0232cf51",
   "metadata": {},
   "outputs": [
    {
     "data": {
      "text/plain": [
       "array([ 0,  2,  4,  6,  8, 10, 12, 14, 16, 18, 20, 22, 24, 26, 28, 30])"
      ]
     },
     "execution_count": 10,
     "metadata": {},
     "output_type": "execute_result"
    }
   ],
   "source": [
    "np.arange(0,31,2)"
   ]
  },
  {
   "cell_type": "code",
   "execution_count": 15,
   "id": "76d846f7",
   "metadata": {},
   "outputs": [
    {
     "name": "stdout",
     "output_type": "stream",
     "text": [
      "[0.         0.11111111 0.22222222 0.33333333 0.44444444 0.55555556\n",
      " 0.66666667 0.77777778 0.88888889 1.        ]\n"
     ]
    },
    {
     "data": {
      "text/plain": [
       "(10,)"
      ]
     },
     "execution_count": 15,
     "metadata": {},
     "output_type": "execute_result"
    }
   ],
   "source": [
    "d = np.linspace(0,1,10)\n",
    "print(d)\n",
    "d.shape"
   ]
  },
  {
   "cell_type": "code",
   "execution_count": 17,
   "id": "023ffd54",
   "metadata": {},
   "outputs": [
    {
     "data": {
      "text/plain": [
       "array([[12.02142137,  3.19118906,  8.08850494,  1.59380824],\n",
       "       [10.25245472, 12.42316982, 16.46464112,  9.64372105],\n",
       "       [12.32161541,  5.50280529, 16.48433421, 12.81771027]])"
      ]
     },
     "execution_count": 17,
     "metadata": {},
     "output_type": "execute_result"
    }
   ],
   "source": [
    "e = np.random.normal(10, 4, (3,4)) #Ortalaması 10, Standart Sapması 4 olan array.\n",
    "e"
   ]
  },
  {
   "cell_type": "code",
   "execution_count": 18,
   "id": "00ff2878",
   "metadata": {},
   "outputs": [
    {
     "data": {
      "text/plain": [
       "array([[8, 6, 6],\n",
       "       [2, 7, 1],\n",
       "       [8, 6, 5]])"
      ]
     },
     "execution_count": 18,
     "metadata": {},
     "output_type": "execute_result"
    }
   ],
   "source": [
    "f = np.random.randint(0,10, (3,3))\n",
    "f"
   ]
  },
  {
   "cell_type": "markdown",
   "id": "d7cb94f8",
   "metadata": {},
   "source": [
    "### Özellikleri\n",
    "\n",
    "* **ndim:** boyut sayısı\n",
    "* **shape:** boyut bilgisi\n",
    "* **size:** toplam eleman sayısı\n",
    "* **dtype:** array veri tipi"
   ]
  },
  {
   "cell_type": "code",
   "execution_count": 20,
   "id": "ab59b3b0",
   "metadata": {},
   "outputs": [],
   "source": [
    "g = np.random.randint(25, size = 5)"
   ]
  },
  {
   "cell_type": "code",
   "execution_count": 22,
   "id": "dc81888c",
   "metadata": {},
   "outputs": [
    {
     "data": {
      "text/plain": [
       "array([ 0,  3, 17, 18,  1])"
      ]
     },
     "execution_count": 22,
     "metadata": {},
     "output_type": "execute_result"
    }
   ],
   "source": [
    "g"
   ]
  },
  {
   "cell_type": "code",
   "execution_count": 24,
   "id": "3c194e60",
   "metadata": {},
   "outputs": [
    {
     "data": {
      "text/plain": [
       "1"
      ]
     },
     "execution_count": 24,
     "metadata": {},
     "output_type": "execute_result"
    }
   ],
   "source": [
    "g.ndim"
   ]
  },
  {
   "cell_type": "code",
   "execution_count": 25,
   "id": "6a451b1d",
   "metadata": {},
   "outputs": [
    {
     "data": {
      "text/plain": [
       "(5,)"
      ]
     },
     "execution_count": 25,
     "metadata": {},
     "output_type": "execute_result"
    }
   ],
   "source": [
    "g.shape"
   ]
  },
  {
   "cell_type": "code",
   "execution_count": 26,
   "id": "85d2b02a",
   "metadata": {},
   "outputs": [
    {
     "data": {
      "text/plain": [
       "5"
      ]
     },
     "execution_count": 26,
     "metadata": {},
     "output_type": "execute_result"
    }
   ],
   "source": [
    "g.size"
   ]
  },
  {
   "cell_type": "code",
   "execution_count": 27,
   "id": "7863cc9a",
   "metadata": {},
   "outputs": [
    {
     "data": {
      "text/plain": [
       "dtype('int32')"
      ]
     },
     "execution_count": 27,
     "metadata": {},
     "output_type": "execute_result"
    }
   ],
   "source": [
    "g.dtype"
   ]
  },
  {
   "cell_type": "code",
   "execution_count": 28,
   "id": "5991b7fa",
   "metadata": {},
   "outputs": [],
   "source": [
    "h = np.random.randint(10, size = (3,5))"
   ]
  },
  {
   "cell_type": "code",
   "execution_count": 29,
   "id": "09673d75",
   "metadata": {},
   "outputs": [
    {
     "data": {
      "text/plain": [
       "2"
      ]
     },
     "execution_count": 29,
     "metadata": {},
     "output_type": "execute_result"
    }
   ],
   "source": [
    "h.ndim"
   ]
  },
  {
   "cell_type": "code",
   "execution_count": 30,
   "id": "2ca4f822",
   "metadata": {},
   "outputs": [
    {
     "data": {
      "text/plain": [
       "(3, 5)"
      ]
     },
     "execution_count": 30,
     "metadata": {},
     "output_type": "execute_result"
    }
   ],
   "source": [
    "h.shape"
   ]
  },
  {
   "cell_type": "code",
   "execution_count": 31,
   "id": "697a9627",
   "metadata": {},
   "outputs": [
    {
     "data": {
      "text/plain": [
       "15"
      ]
     },
     "execution_count": 31,
     "metadata": {},
     "output_type": "execute_result"
    }
   ],
   "source": [
    "h.size"
   ]
  },
  {
   "cell_type": "code",
   "execution_count": 32,
   "id": "ca342d8a",
   "metadata": {},
   "outputs": [
    {
     "data": {
      "text/plain": [
       "dtype('int32')"
      ]
     },
     "execution_count": 32,
     "metadata": {},
     "output_type": "execute_result"
    }
   ],
   "source": [
    "h.dtype"
   ]
  }
 ],
 "metadata": {
  "kernelspec": {
   "display_name": "Python 3 (ipykernel)",
   "language": "python",
   "name": "python3"
  },
  "language_info": {
   "codemirror_mode": {
    "name": "ipython",
    "version": 3
   },
   "file_extension": ".py",
   "mimetype": "text/x-python",
   "name": "python",
   "nbconvert_exporter": "python",
   "pygments_lexer": "ipython3",
   "version": "3.9.12"
  }
 },
 "nbformat": 4,
 "nbformat_minor": 5
}
